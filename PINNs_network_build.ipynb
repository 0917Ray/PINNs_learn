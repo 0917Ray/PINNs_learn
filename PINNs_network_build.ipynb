{
 "cells": [
  {
   "cell_type": "markdown",
   "id": "8c6173fd-5be5-467d-b4cb-bc3654260621",
   "metadata": {},
   "source": [
    "Demo code for PINN \\\n",
    "Author: Changrui Fang\\\n",
    "2021300002027@whu.edu.cn"
   ]
  },
  {
   "cell_type": "markdown",
   "id": "de7a3458-b162-43de-a2c8-a6451ea37768",
   "metadata": {
    "tags": []
   },
   "source": [
    "# 1. Base definition"
   ]
  },
  {
   "cell_type": "code",
   "execution_count": 2,
   "id": "e36ba336-677b-4a42-afc9-d09347a2320b",
   "metadata": {
    "tags": []
   },
   "outputs": [],
   "source": [
    "# import the necessary package\n",
    "import torch\n",
    "import torch.nn as nn\n",
    "import matplotlib as plt\n",
    "import numpy as np"
   ]
  },
  {
   "cell_type": "code",
   "execution_count": 4,
   "id": "4e80ffe4-97c7-4b34-ae38-352865015b34",
   "metadata": {
    "tags": []
   },
   "outputs": [],
   "source": [
    "# define a DNN\n",
    "\n",
    "class MyNet(nn.Module):\n",
    "    def __init__(self, num_layers):\n",
    "        super(MyNet).__init__()\n",
    "        self.DEP = len(layers) - 1  # the depth of the network\n",
    "        self.ACT = torch.nn.Tanh  # the activate function of the network\n",
    "        \n",
    "        self.IN = torch.nn.Linear(num_IN, num_Hidden)  # input layer\n",
    "        \n",
    "        # next set up Hidden layers\n",
    "        self.FC_layers = list()  # difine a empty list firstly\n",
    "        for i in range(num_layers - 1):\n",
    "            fc_layer = torch.nn.Linear(num_Hidden, num_Hidden)\n",
    "            self.FC_layers.append(fc_layer)\n",
    "        \n",
    "        self.OUT = torch.nn.Linear(num_Hidden, num_Out)  # output layer\n",
    "        \n",
    "        def forward(self, inputs):\n",
    "            M = inputs\n",
    "            M = self.IN(M)\n",
    "            M = self.ACT(M)\n",
    "            \n",
    "            for fc_layer in self.FC_layers:\n",
    "                M = fc_layer(M)\n",
    "                M = self.ACT(M)\n",
    "                \n",
    "            outputs = self.OUT(M)\n",
    "            return outputs"
   ]
  },
  {
   "cell_type": "markdown",
   "id": "e3d03c55-c80c-4b2f-9114-bf770656872f",
   "metadata": {},
   "source": [
    "# 2. Specific examples"
   ]
  },
  {
   "cell_type": "markdown",
   "id": "0157455c-a436-4e48-8543-91136042dcab",
   "metadata": {},
   "source": [
    "## 2.1 1D poisson problem"
   ]
  },
  {
   "cell_type": "code",
   "execution_count": null,
   "id": "02520e41-18d9-4e84-b11f-7388a3bd4f55",
   "metadata": {},
   "outputs": [],
   "source": [
    "# define DataLoss and Equation Loss\n",
    "\n",
    "class DataLoss(torch.nn.Layer):\n",
    "    def __init__(self, nn_Fun):\n",
    "        super().__init__()\n",
    "        self.fun = nn_Fun\n",
    "        \n",
    "    def forward(self, X, Y_true):\n",
    "        Y_pre = self.fun(X)\n",
    "        loss = torch.sum(torch.square(Y_pre - Y_true))\n",
    "        return loss\n",
    "    \n",
    "class EqLoss(torcn.nn.Layer):\n",
    "    def __init__(self, nn_fun):\n",
    "        super().__init__()\n",
    "        self.fun = nn_fun\n",
    "        \n",
    "        def forward(self, X):\n",
    "            x = X[:0].reshape([X.shape[0],1])\n",
    "            X = x\n",
    "            u = self.fun(X)\n",
    "            u_x = torch.grad(u,x,create_graph=True,retain_graph=True)[0]\n",
    "            u_xx = torch.grad(u_x,x,create_graph=True,retain_graph=True)[0]\n",
    "            \n",
    "            eq = np.pi**2*torch.sin(np.pi*x) + u_xx  # poisson equation: u'' = pi^2 * sin(pi*x)\n",
    "            \n",
    "            loss = torch.sum(torch.square(eq))\n",
    "            return loss\n",
    "    "
   ]
  }
 ],
 "metadata": {
  "kernelspec": {
   "display_name": "Python 3 (ipykernel)",
   "language": "python",
   "name": "python3"
  },
  "language_info": {
   "codemirror_mode": {
    "name": "ipython",
    "version": 3
   },
   "file_extension": ".py",
   "mimetype": "text/x-python",
   "name": "python",
   "nbconvert_exporter": "python",
   "pygments_lexer": "ipython3",
   "version": "3.11.5"
  }
 },
 "nbformat": 4,
 "nbformat_minor": 5
}
